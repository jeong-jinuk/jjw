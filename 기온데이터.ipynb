{
  "nbformat": 4,
  "nbformat_minor": 0,
  "metadata": {
    "kernelspec": {
      "display_name": "Python 3",
      "language": "python",
      "name": "python3"
    },
    "language_info": {
      "codemirror_mode": {
        "name": "ipython",
        "version": 3
      },
      "file_extension": ".py",
      "mimetype": "text/x-python",
      "name": "python",
      "nbconvert_exporter": "python",
      "pygments_lexer": "ipython3",
      "version": "3.6.9"
    },
    "colab": {
      "name": "기온데이터.ipynb",
      "provenance": [],
      "collapsed_sections": [],
      "include_colab_link": true
    }
  },
  "cells": [
    {
      "cell_type": "markdown",
      "metadata": {
        "id": "view-in-github",
        "colab_type": "text"
      },
      "source": [
        "<a href=\"https://colab.research.google.com/github/jeong-jinuk/kisti_study/blob/master/%E1%84%80%E1%85%B5%E1%84%8B%E1%85%A9%E1%86%AB%E1%84%83%E1%85%A6%E1%84%8B%E1%85%B5%E1%84%90%E1%85%A5.ipynb\" target=\"_parent\"><img src=\"https://colab.research.google.com/assets/colab-badge.svg\" alt=\"Open In Colab\"/></a>"
      ]
    },
    {
      "cell_type": "code",
      "metadata": {
        "id": "bHS4gjwIwV7i",
        "colab_type": "code",
        "colab": {}
      },
      "source": [
        "import csv"
      ],
      "execution_count": 0,
      "outputs": []
    },
    {
      "cell_type": "code",
      "metadata": {
        "id": "yU2qGJrkwraR",
        "colab_type": "code",
        "outputId": "f2fc2d89-e7f9-40d9-e2cd-bf254666fade",
        "colab": {
          "base_uri": "https://localhost:8080/",
          "height": 35
        }
      },
      "source": [
        "# colab - google drive mount\n",
        "from google.colab import drive\n",
        "drive.mount('gdrive')"
      ],
      "execution_count": 0,
      "outputs": [
        {
          "output_type": "stream",
          "text": [
            "Drive already mounted at gdrive; to attempt to forcibly remount, call drive.mount(\"gdrive\", force_remount=True).\n"
          ],
          "name": "stdout"
        }
      ]
    },
    {
      "cell_type": "code",
      "metadata": {
        "id": "7VcxFKYrwxHG",
        "colab_type": "code",
        "outputId": "f97e60be-8d1d-483f-d336-815114e9b6eb",
        "colab": {
          "base_uri": "https://localhost:8080/",
          "height": 35
        }
      },
      "source": [
        "!ls"
      ],
      "execution_count": 0,
      "outputs": [
        {
          "output_type": "stream",
          "text": [
            "gdrive\tsample_data\n"
          ],
          "name": "stdout"
        }
      ]
    },
    {
      "cell_type": "code",
      "metadata": {
        "id": "1x-j8rTwwsjM",
        "colab_type": "code",
        "outputId": "020d8d01-d350-4b81-d085-937247962a66",
        "colab": {
          "base_uri": "https://localhost:8080/",
          "height": 89
        }
      },
      "source": [
        "%cd \"/content/gdrive/My Drive/kisti_colab/모두의 데이터분석 with python\"\n",
        "!ls -al"
      ],
      "execution_count": 0,
      "outputs": [
        {
          "output_type": "stream",
          "text": [
            "/content/gdrive/My Drive/kisti_colab/모두의 데이터분석 with python\n",
            "total 1175\n",
            "-rw------- 1 root root   17696 Dec 11 04:52 기온데이터.ipynb\n",
            "-rw------- 1 root root 1185149 Dec 11 02:19 seoul.csv\n"
          ],
          "name": "stdout"
        }
      ]
    },
    {
      "cell_type": "code",
      "metadata": {
        "id": "fKtK_E24wV7n",
        "colab_type": "code",
        "outputId": "f06cc4cc-32d0-4744-8a14-5be369b9f0de",
        "colab": {
          "base_uri": "https://localhost:8080/",
          "height": 35
        }
      },
      "source": [
        "f = open('seoul.csv','r',encoding='cp949') # 파일 열기\n",
        "data = csv.reader(f)                                  # data 에 읽어온 내용 저장\n",
        "data_list = []                                              # list  형태로 저장하기 위한 변수\n",
        "print(data)                                                 # data 변수의 위치"
      ],
      "execution_count": 0,
      "outputs": [
        {
          "output_type": "stream",
          "text": [
            "<_csv.reader object at 0x7fa73942aa58>\n"
          ],
          "name": "stdout"
        }
      ]
    },
    {
      "cell_type": "code",
      "metadata": {
        "id": "WwaVHyGQwV7r",
        "colab_type": "code",
        "colab": {}
      },
      "source": [
        "for r in data:\n",
        "    data_list.append(r)                                  # data를 한 행씩 읽어와서 data_list 에 list 형태로 저장"
      ],
      "execution_count": 0,
      "outputs": []
    },
    {
      "cell_type": "code",
      "metadata": {
        "id": "bpGICDYEwV7z",
        "colab_type": "code",
        "outputId": "9103a17b-4441-41c8-f53f-44868fb4af43",
        "colab": {
          "base_uri": "https://localhost:8080/",
          "height": 35
        }
      },
      "source": [
        "header = data_list[0]             # header 부분만 떼어 저장\n",
        "data_list = data_list[1:]           # 헤더를 제외한 부분은 다시 리스트에 저장\n",
        "print(header)"
      ],
      "execution_count": 0,
      "outputs": [
        {
          "output_type": "stream",
          "text": [
            "['날짜', '지점', '평균기온(℃)', '최저기온(℃)', '최고기온(℃)']\n"
          ],
          "name": "stdout"
        }
      ]
    },
    {
      "cell_type": "code",
      "metadata": {
        "id": "szjR6P_jwV75",
        "colab_type": "code",
        "outputId": "e4be9259-8256-4228-8fa7-621e388ecb36",
        "colab": {
          "base_uri": "https://localhost:8080/",
          "height": 35
        }
      },
      "source": [
        "print(data_list[0])"
      ],
      "execution_count": 0,
      "outputs": [
        {
          "output_type": "stream",
          "text": [
            "['1907-10-01', '108', '13.5', '7.9', '20.7']\n"
          ],
          "name": "stdout"
        }
      ]
    },
    {
      "cell_type": "markdown",
      "metadata": {
        "id": "0vlFsWYpwV77",
        "colab_type": "text"
      },
      "source": [
        "# 최고기온을 알아보자"
      ]
    },
    {
      "cell_type": "code",
      "metadata": {
        "id": "wfMuclgKwV78",
        "colab_type": "code",
        "colab": {}
      },
      "source": [
        "for row in data_list:\n",
        "    if row[-1] == '':                                   # 누락된 값으로 인해 형변환이 안되므로 누락값을 설정\n",
        "        row[-1] = -999\n",
        "    row[-1] = float(row[-1])                     # 최고기온을 비교하기 위해 float 타입으로 변환"
      ],
      "execution_count": 0,
      "outputs": []
    },
    {
      "cell_type": "code",
      "metadata": {
        "id": "Hkxl_LhswV7_",
        "colab_type": "code",
        "outputId": "e755af59-8f68-40b4-8c0f-c6fe435af36c",
        "colab": {
          "base_uri": "https://localhost:8080/",
          "height": 35
        }
      },
      "source": [
        "max_tamp = - 30                                   # 최고온도를 저장하기 위한 변수\n",
        "max_date = ' '                                         # 최고온도가 나타난 날짜를 저장하기 위한 변수\n",
        "\n",
        "for x in data_list:\n",
        "    if x[-1] > max_tamp:\n",
        "        max_date = x[0]\n",
        "        max_tamp = x[-1]\n",
        "\n",
        "print(max_date,'       ',max_tamp)"
      ],
      "execution_count": 0,
      "outputs": [
        {
          "output_type": "stream",
          "text": [
            "2018-08-01         39.6\n"
          ],
          "name": "stdout"
        }
      ]
    },
    {
      "cell_type": "code",
      "metadata": {
        "id": "BzZtm9qQwV8B",
        "colab_type": "code",
        "colab": {}
      },
      "source": [
        "import matplotlib.pyplot as plt"
      ],
      "execution_count": 0,
      "outputs": []
    },
    {
      "cell_type": "code",
      "metadata": {
        "id": "X4sQwzB1x3u1",
        "colab_type": "code",
        "colab": {}
      },
      "source": [
        "max_t = []\n",
        "min_t = []\n",
        "mean_t = []"
      ],
      "execution_count": 0,
      "outputs": []
    },
    {
      "cell_type": "code",
      "metadata": {
        "id": "FwdzBdZDy0k3",
        "colab_type": "code",
        "colab": {}
      },
      "source": [
        "for row in data:\n",
        "  if row[0] != '날짜':\n",
        "    if row[-1] != '' and row[-2] != '':\n",
        "      date = row[0].split('-')\n",
        "      if 1980 <= int(date[0]):\n",
        "        if date[1] == '12' and date[2] == '29':\n",
        "          max_t.append(float(row[-1]))\n",
        "          min_t.append(float(row[-2]))\n",
        "          mean_t.append(float(row[-3]))"
      ],
      "execution_count": 0,
      "outputs": []
    },
    {
      "cell_type": "code",
      "metadata": {
        "id": "q8-PieyZzgFa",
        "colab_type": "code",
        "outputId": "2bcd437f-1782-4316-f0ee-59c65c439afa",
        "colab": {
          "base_uri": "https://localhost:8080/",
          "height": 733
        }
      },
      "source": [
        "plt.rc('font',family = 'Malgun Gothic')\n",
        "plt.rcParams['axes.unicode_minus'] = False\n",
        "plt.title('생일기온')\n",
        "plt.plot(max_t,'R',label = 'High')\n",
        "plt.plot(min_t,'B',label='Low')\n",
        "plt.plot(mean_t,'G',label='Mean')\n",
        "plt.legend()\n",
        "plt.show()"
      ],
      "execution_count": 0,
      "outputs": [
        {
          "output_type": "stream",
          "text": [
            "/usr/local/lib/python3.6/dist-packages/ipykernel_launcher.py:4: MatplotlibDeprecationWarning: Support for uppercase single-letter colors is deprecated since Matplotlib 3.1 and will be removed in 3.3; please use lowercase instead.\n",
            "  after removing the cwd from sys.path.\n",
            "/usr/local/lib/python3.6/dist-packages/ipykernel_launcher.py:5: MatplotlibDeprecationWarning: Support for uppercase single-letter colors is deprecated since Matplotlib 3.1 and will be removed in 3.3; please use lowercase instead.\n",
            "  \"\"\"\n",
            "/usr/local/lib/python3.6/dist-packages/ipykernel_launcher.py:6: MatplotlibDeprecationWarning: Support for uppercase single-letter colors is deprecated since Matplotlib 3.1 and will be removed in 3.3; please use lowercase instead.\n",
            "  \n",
            "findfont: Font family ['Malgun Gothic'] not found. Falling back to DejaVu Sans.\n",
            "/usr/local/lib/python3.6/dist-packages/matplotlib/backends/backend_agg.py:211: RuntimeWarning: Glyph 49373 missing from current font.\n",
            "  font.set_text(s, 0.0, flags=flags)\n",
            "/usr/local/lib/python3.6/dist-packages/matplotlib/backends/backend_agg.py:211: RuntimeWarning: Glyph 51068 missing from current font.\n",
            "  font.set_text(s, 0.0, flags=flags)\n",
            "/usr/local/lib/python3.6/dist-packages/matplotlib/backends/backend_agg.py:211: RuntimeWarning: Glyph 44592 missing from current font.\n",
            "  font.set_text(s, 0.0, flags=flags)\n",
            "/usr/local/lib/python3.6/dist-packages/matplotlib/backends/backend_agg.py:211: RuntimeWarning: Glyph 50728 missing from current font.\n",
            "  font.set_text(s, 0.0, flags=flags)\n",
            "findfont: Font family ['Malgun Gothic'] not found. Falling back to DejaVu Sans.\n",
            "/usr/local/lib/python3.6/dist-packages/matplotlib/backends/backend_agg.py:180: RuntimeWarning: Glyph 49373 missing from current font.\n",
            "  font.set_text(s, 0, flags=flags)\n",
            "/usr/local/lib/python3.6/dist-packages/matplotlib/backends/backend_agg.py:180: RuntimeWarning: Glyph 51068 missing from current font.\n",
            "  font.set_text(s, 0, flags=flags)\n",
            "/usr/local/lib/python3.6/dist-packages/matplotlib/backends/backend_agg.py:180: RuntimeWarning: Glyph 44592 missing from current font.\n",
            "  font.set_text(s, 0, flags=flags)\n",
            "/usr/local/lib/python3.6/dist-packages/matplotlib/backends/backend_agg.py:180: RuntimeWarning: Glyph 50728 missing from current font.\n",
            "  font.set_text(s, 0, flags=flags)\n"
          ],
          "name": "stderr"
        },
        {
          "output_type": "display_data",
          "data": {
            "image/png": "[encoded data removed]",
            "text/plain": [
              "<Figure size 432x288 with 1 Axes>"
            ]
          },
          "metadata": {
            "tags": []
          }
        }
      ]
    },
    {
      "cell_type": "code",
      "metadata": {
        "id": "ysS4dZHBwV72",
        "colab_type": "code",
        "colab": {}
      },
      "source": [
        "f.close()"
      ],
      "execution_count": 0,
      "outputs": []
    },
    {
      "cell_type": "code",
      "metadata": {
        "id": "r0CYOB7u0V6x",
        "colab_type": "code",
        "colab": {}
      },
      "source": [
        ""
      ],
      "execution_count": 0,
      "outputs": []
    }
  ]
}